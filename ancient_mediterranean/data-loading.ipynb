{
 "cells": [
  {
   "cell_type": "code",
   "id": "37b39b9631eabc8b",
   "metadata": {
    "collapsed": true,
    "ExecuteTime": {
     "end_time": "2024-03-08T17:14:19.132733Z",
     "start_time": "2024-03-08T17:14:18.223379Z"
    }
   },
   "source": [
    "import sqlite3\n",
    "import pandas as pd\n",
    "import tempun \n",
    "import geopandas as gpd\n",
    "import re"
   ],
   "outputs": [],
   "execution_count": 1
  },
  {
   "metadata": {
    "ExecuteTime": {
     "end_time": "2024-03-08T17:14:19.536449Z",
     "start_time": "2024-03-08T17:14:19.133848Z"
    }
   },
   "cell_type": "code",
   "source": [
    "conn = sqlite3.connect('large_files/cultura_12_2024.db')\n",
    "\n",
    "# Chose a table to extract\n",
    "table_name = 'individuals_main_information'\n",
    "\n",
    "# Load the table as a pandas DataFrame\n",
    "cultura = pd.read_sql_query(f\"SELECT * FROM {table_name}\", conn)"
   ],
   "id": "initial_id",
   "outputs": [],
   "execution_count": 2
  },
  {
   "metadata": {
    "ExecuteTime": {
     "end_time": "2024-03-08T17:14:19.738345Z",
     "start_time": "2024-03-08T17:14:19.734390Z"
    }
   },
   "cell_type": "code",
   "source": "cultura.shape",
   "id": "f76c6897835b70e7",
   "outputs": [
    {
     "data": {
      "text/plain": [
       "(220770, 8)"
      ]
     },
     "execution_count": 3,
     "metadata": {},
     "output_type": "execute_result"
    }
   ],
   "execution_count": 3
  },
  {
   "metadata": {
    "ExecuteTime": {
     "end_time": "2024-03-08T17:14:20.385758Z",
     "start_time": "2024-03-08T17:14:20.374784Z"
    }
   },
   "cell_type": "code",
   "source": "cultura.head(10)",
   "id": "e2422ef482701225",
   "outputs": [
    {
     "data": {
      "text/plain": [
       "  individual_wikidata_id             individual_name  birthyear  \\\n",
       "0              Q55844134         Ernst von Heeringen     1810.0   \n",
       "1                Q202809            Frederick Coombs     1803.0   \n",
       "2              Q94835418            Georg Kurtscholz     1847.0   \n",
       "3              Q33934701        Margarethe Sömmering     1768.0   \n",
       "4               Q4350107       Vassili Perevoštšikov     1785.0   \n",
       "5               Q1028749  Christian Friedrich Zincke     1683.0   \n",
       "6               Q2822993      Achard of Saint-Victor     1100.0   \n",
       "7             Q105607234               Angelo Dalbon     1787.0   \n",
       "8                 Q91771               Hans Krumpper     1570.0   \n",
       "9               Q5362982              Elizabeth Hoby     1528.0   \n",
       "\n",
       "  individual_impact_years country_code    country_name  \\\n",
       "0               1820-1870         None            None   \n",
       "1               1810-1860          GBR  United Kingdom   \n",
       "2               1860-1910         None            None   \n",
       "3               1780-1830         None            None   \n",
       "4               1800-1850          RUS          Russia   \n",
       "5               1690-1740          GBR  United Kingdom   \n",
       "6               1110-1160          GBR  United Kingdom   \n",
       "7               1800-1850          ITA           Italy   \n",
       "8               1580-1630          DEU         Germany   \n",
       "9               1540-1590          GBR  United Kingdom   \n",
       "\n",
       "   wikipedia_cultural_score  identifier_score  \n",
       "0                       NaN               6.0  \n",
       "1                  0.102597              12.0  \n",
       "2                       NaN               4.0  \n",
       "3                  0.100135               1.0  \n",
       "4                  0.101319               4.0  \n",
       "5                  0.100409              37.0  \n",
       "6                  0.101588              46.0  \n",
       "7                  0.100120               4.0  \n",
       "8                  0.101971              24.0  \n",
       "9                  0.101881              23.0  "
      ],
      "text/html": [
       "<div>\n",
       "<style scoped>\n",
       "    .dataframe tbody tr th:only-of-type {\n",
       "        vertical-align: middle;\n",
       "    }\n",
       "\n",
       "    .dataframe tbody tr th {\n",
       "        vertical-align: top;\n",
       "    }\n",
       "\n",
       "    .dataframe thead th {\n",
       "        text-align: right;\n",
       "    }\n",
       "</style>\n",
       "<table border=\"1\" class=\"dataframe\">\n",
       "  <thead>\n",
       "    <tr style=\"text-align: right;\">\n",
       "      <th></th>\n",
       "      <th>individual_wikidata_id</th>\n",
       "      <th>individual_name</th>\n",
       "      <th>birthyear</th>\n",
       "      <th>individual_impact_years</th>\n",
       "      <th>country_code</th>\n",
       "      <th>country_name</th>\n",
       "      <th>wikipedia_cultural_score</th>\n",
       "      <th>identifier_score</th>\n",
       "    </tr>\n",
       "  </thead>\n",
       "  <tbody>\n",
       "    <tr>\n",
       "      <th>0</th>\n",
       "      <td>Q55844134</td>\n",
       "      <td>Ernst von Heeringen</td>\n",
       "      <td>1810.0</td>\n",
       "      <td>1820-1870</td>\n",
       "      <td>None</td>\n",
       "      <td>None</td>\n",
       "      <td>NaN</td>\n",
       "      <td>6.0</td>\n",
       "    </tr>\n",
       "    <tr>\n",
       "      <th>1</th>\n",
       "      <td>Q202809</td>\n",
       "      <td>Frederick Coombs</td>\n",
       "      <td>1803.0</td>\n",
       "      <td>1810-1860</td>\n",
       "      <td>GBR</td>\n",
       "      <td>United Kingdom</td>\n",
       "      <td>0.102597</td>\n",
       "      <td>12.0</td>\n",
       "    </tr>\n",
       "    <tr>\n",
       "      <th>2</th>\n",
       "      <td>Q94835418</td>\n",
       "      <td>Georg Kurtscholz</td>\n",
       "      <td>1847.0</td>\n",
       "      <td>1860-1910</td>\n",
       "      <td>None</td>\n",
       "      <td>None</td>\n",
       "      <td>NaN</td>\n",
       "      <td>4.0</td>\n",
       "    </tr>\n",
       "    <tr>\n",
       "      <th>3</th>\n",
       "      <td>Q33934701</td>\n",
       "      <td>Margarethe Sömmering</td>\n",
       "      <td>1768.0</td>\n",
       "      <td>1780-1830</td>\n",
       "      <td>None</td>\n",
       "      <td>None</td>\n",
       "      <td>0.100135</td>\n",
       "      <td>1.0</td>\n",
       "    </tr>\n",
       "    <tr>\n",
       "      <th>4</th>\n",
       "      <td>Q4350107</td>\n",
       "      <td>Vassili Perevoštšikov</td>\n",
       "      <td>1785.0</td>\n",
       "      <td>1800-1850</td>\n",
       "      <td>RUS</td>\n",
       "      <td>Russia</td>\n",
       "      <td>0.101319</td>\n",
       "      <td>4.0</td>\n",
       "    </tr>\n",
       "    <tr>\n",
       "      <th>5</th>\n",
       "      <td>Q1028749</td>\n",
       "      <td>Christian Friedrich Zincke</td>\n",
       "      <td>1683.0</td>\n",
       "      <td>1690-1740</td>\n",
       "      <td>GBR</td>\n",
       "      <td>United Kingdom</td>\n",
       "      <td>0.100409</td>\n",
       "      <td>37.0</td>\n",
       "    </tr>\n",
       "    <tr>\n",
       "      <th>6</th>\n",
       "      <td>Q2822993</td>\n",
       "      <td>Achard of Saint-Victor</td>\n",
       "      <td>1100.0</td>\n",
       "      <td>1110-1160</td>\n",
       "      <td>GBR</td>\n",
       "      <td>United Kingdom</td>\n",
       "      <td>0.101588</td>\n",
       "      <td>46.0</td>\n",
       "    </tr>\n",
       "    <tr>\n",
       "      <th>7</th>\n",
       "      <td>Q105607234</td>\n",
       "      <td>Angelo Dalbon</td>\n",
       "      <td>1787.0</td>\n",
       "      <td>1800-1850</td>\n",
       "      <td>ITA</td>\n",
       "      <td>Italy</td>\n",
       "      <td>0.100120</td>\n",
       "      <td>4.0</td>\n",
       "    </tr>\n",
       "    <tr>\n",
       "      <th>8</th>\n",
       "      <td>Q91771</td>\n",
       "      <td>Hans Krumpper</td>\n",
       "      <td>1570.0</td>\n",
       "      <td>1580-1630</td>\n",
       "      <td>DEU</td>\n",
       "      <td>Germany</td>\n",
       "      <td>0.101971</td>\n",
       "      <td>24.0</td>\n",
       "    </tr>\n",
       "    <tr>\n",
       "      <th>9</th>\n",
       "      <td>Q5362982</td>\n",
       "      <td>Elizabeth Hoby</td>\n",
       "      <td>1528.0</td>\n",
       "      <td>1540-1590</td>\n",
       "      <td>GBR</td>\n",
       "      <td>United Kingdom</td>\n",
       "      <td>0.101881</td>\n",
       "      <td>23.0</td>\n",
       "    </tr>\n",
       "  </tbody>\n",
       "</table>\n",
       "</div>"
      ]
     },
     "execution_count": 4,
     "metadata": {},
     "output_type": "execute_result"
    }
   ],
   "execution_count": 4
  },
  {
   "metadata": {
    "ExecuteTime": {
     "end_time": "2024-03-08T17:14:21.200392Z",
     "start_time": "2024-03-08T17:14:21.157263Z"
    }
   },
   "cell_type": "code",
   "source": "cultura = cultura[cultura[\"individual_impact_years\"].notnull()]",
   "id": "7c6e5ef17675cc67",
   "outputs": [],
   "execution_count": 5
  },
  {
   "metadata": {
    "ExecuteTime": {
     "end_time": "2024-03-08T17:14:22.780251Z",
     "start_time": "2024-03-08T17:14:22.775379Z"
    }
   },
   "cell_type": "code",
   "source": [
    "years = \"-20-30\"\n",
    "re.search(\"(\\-?\\d+)(\\-)(\\-?\\d+)\", years).groups()"
   ],
   "id": "b9033c5825a7502f",
   "outputs": [
    {
     "data": {
      "text/plain": [
       "('-20', '-', '30')"
      ]
     },
     "execution_count": 6,
     "metadata": {},
     "output_type": "execute_result"
    }
   ],
   "execution_count": 6
  },
  {
   "metadata": {
    "ExecuteTime": {
     "end_time": "2024-03-08T17:14:24.053205Z",
     "start_time": "2024-03-08T17:14:23.667916Z"
    }
   },
   "cell_type": "code",
   "source": [
    "cultura[\"not_before\"] = cultura[\"individual_impact_years\"].apply(\n",
    "    lambda x: int(re.search(\"(\\-?\\d+)(\\-)(\\-?\\d+)\", years).groups()[0]))\n",
    "cultura[\"not_after\"] = cultura[\"individual_impact_years\"].apply(\n",
    "    lambda x: int(re.search(\"(\\-?\\d+)(\\-)(\\-?\\d+)\", years).groups()[2]))"
   ],
   "id": "f6fe07b09e15f948",
   "outputs": [],
   "execution_count": 7
  },
  {
   "metadata": {
    "ExecuteTime": {
     "end_time": "2024-03-08T17:15:27.108338Z",
     "start_time": "2024-03-08T17:14:27.900134Z"
    }
   },
   "cell_type": "code",
   "source": "cultura[\"random_dates\"] = cultura.apply(lambda row: tempun.model_date(row[\"not_before\"], row[\"not_after\"], size=100), axis=1)",
   "id": "536a237b5171e19f",
   "outputs": [],
   "execution_count": 8
  },
  {
   "metadata": {
    "ExecuteTime": {
     "end_time": "2024-03-08T17:17:06.374546Z",
     "start_time": "2024-03-08T17:17:06.353464Z"
    }
   },
   "cell_type": "code",
   "source": "((cultura[\"birthyear\"] <= 600) & (cultura[\"country_code\"]==\"GRC\")).sum()",
   "id": "1d3744c81816f380",
   "outputs": [
    {
     "data": {
      "text/plain": [
       "545"
      ]
     },
     "execution_count": 11,
     "metadata": {},
     "output_type": "execute_result"
    }
   ],
   "execution_count": 11
  },
  {
   "metadata": {
    "ExecuteTime": {
     "end_time": "2024-03-08T17:17:50.482214Z",
     "start_time": "2024-03-08T17:17:50.461530Z"
    }
   },
   "cell_type": "code",
   "source": "((cultura[\"birthyear\"] <= 600) & (cultura[\"country_code\"]==\"ITA\")).sum()",
   "id": "2e983bc0f2567c7d",
   "outputs": [
    {
     "data": {
      "text/plain": [
       "454"
      ]
     },
     "execution_count": 12,
     "metadata": {},
     "output_type": "execute_result"
    }
   ],
   "execution_count": 12
  },
  {
   "metadata": {
    "ExecuteTime": {
     "end_time": "2024-03-08T17:18:37.691046Z",
     "start_time": "2024-03-08T17:18:37.657265Z"
    }
   },
   "cell_type": "code",
   "source": [
    "cultura_ant_grc = cultura[(cultura[\"birthyear\"] <= 600) & (cultura[\"country_code\"]==\"GRC\")]\n",
    "cultura_ant_ita = cultura[(cultura[\"birthyear\"] <= 600) & (cultura[\"country_code\"]==\"ITA\")]"
   ],
   "id": "9d5ffc3d4d6aee8e",
   "outputs": [],
   "execution_count": 13
  },
  {
   "metadata": {},
   "cell_type": "code",
   "outputs": [],
   "execution_count": null,
   "source": "",
   "id": "c3be35832d3f1d3"
  },
  {
   "metadata": {
    "ExecuteTime": {
     "end_time": "2024-03-08T17:21:12.844660Z",
     "start_time": "2024-03-08T17:21:09.455146Z"
    }
   },
   "cell_type": "code",
   "source": [
    "# download and load the epigraphic data\n",
    "try:\n",
    "    LIST = gpd.read_parquet(\"large_files/LIST_v1-2.parquet\")\n",
    "    GIST = gpd.read_parquet(\"large_files/GIST_v1-1.parquet\")\n",
    "except:\n",
    "    !curl https://zenodo.org/records/10473706/files/LIST_v1-2.parquet -o large_files/LIST_v1-2.parquet\n",
    "    !curl https://zenodo.org/records/10139110/files/GIST_v1-1.parquet -o large_files/GIST_v1-1.parquet\n",
    "    LIST = gpd.read_parquet(\"large_files/LIST_v1-2.parquet\")\n",
    "    GIST = gpd.read_parquet(\"large_files/GIST_v1-1.parquet\")"
   ],
   "id": "f1fa80cd4cbe4560",
   "outputs": [],
   "execution_count": 15
  },
  {
   "metadata": {
    "jupyter": {
     "is_executing": true
    },
    "ExecuteTime": {
     "start_time": "2024-03-08T17:21:15.965506Z"
    }
   },
   "cell_type": "code",
   "source": [
    "LIST[\"random_dates\"] = LIST.apply(lambda row: tempun.model_date(row[\"not_before\"], row[\"not_after\"], size=100), axis=1)\n",
    "GIST[\"random_dates\"] = GIST.apply(lambda row: tempun.model_date(row[\"not_before\"], row[\"not_after\"], size=100), axis=1)"
   ],
   "id": "46ba5761fd4875d1",
   "outputs": [],
   "execution_count": null
  },
  {
   "metadata": {
    "jupyter": {
     "is_executing": true
    }
   },
   "cell_type": "code",
   "source": "tempun.kdeplot_from_randoms(cultura_ant_grc[\"random_dates\"])",
   "id": "5590d8bf8a265590",
   "outputs": [],
   "execution_count": null
  },
  {
   "metadata": {},
   "cell_type": "code",
   "outputs": [],
   "execution_count": null,
   "source": "",
   "id": "a3db14c97e9bb5a1"
  }
 ],
 "metadata": {
  "kernelspec": {
   "display_name": "brewkernel",
   "language": "python",
   "name": "brewkernel"
  },
  "language_info": {
   "codemirror_mode": {
    "name": "ipython",
    "version": 2
   },
   "file_extension": ".py",
   "mimetype": "text/x-python",
   "name": "python",
   "nbconvert_exporter": "python",
   "pygments_lexer": "ipython2",
   "version": "2.7.6"
  }
 },
 "nbformat": 4,
 "nbformat_minor": 5
}
